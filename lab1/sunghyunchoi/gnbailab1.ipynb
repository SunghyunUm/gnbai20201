{
  "nbformat": 4,
  "nbformat_minor": 0,
  "metadata": {
    "colab": {
      "name": "Untitled0.ipynb",
      "provenance": [],
      "authorship_tag": "ABX9TyOjC3EHNAbqZbzX2x0EpCEg",
      "include_colab_link": true
    },
    "kernelspec": {
      "name": "python3",
      "display_name": "Python 3"
    }
  },
  "cells": [
    {
      "cell_type": "markdown",
      "metadata": {
        "id": "view-in-github",
        "colab_type": "text"
      },
      "source": [
        "<a href=\"https://colab.research.google.com/github/joker0315/gnbai20201/blob/master/lab1/sunghyunchoi/gnbailab1.ipynb\" target=\"_parent\"><img src=\"https://colab.research.google.com/assets/colab-badge.svg\" alt=\"Open In Colab\"/></a>"
      ]
    },
    {
      "cell_type": "code",
      "metadata": {
        "id": "gNxaB2Afs_pZ",
        "colab_type": "code",
        "colab": {}
      },
      "source": [
        "import numpy as np\n",
        "import pandas as pd\n",
        "import matplotlib.pyplot as plt\n",
        "import time"
      ],
      "execution_count": 0,
      "outputs": []
    },
    {
      "cell_type": "code",
      "metadata": {
        "id": "j0Sz_pv0vwhj",
        "colab_type": "code",
        "colab": {
          "base_uri": "https://localhost:8080/",
          "height": 87
        },
        "outputId": "64169b81-2b65-42d8-e865-cdcb319b8dd3"
      },
      "source": [
        "a=np.array([[2,0],[0,2]])\n",
        "b=np.array([[4,1],[2,2]])\n",
        "print(a)\n",
        "print(b)\n"
      ],
      "execution_count": 2,
      "outputs": [
        {
          "output_type": "stream",
          "text": [
            "[[2 0]\n",
            " [0 2]]\n",
            "[[4 1]\n",
            " [2 2]]\n"
          ],
          "name": "stdout"
        }
      ]
    },
    {
      "cell_type": "code",
      "metadata": {
        "id": "DVyMXM8DwTuY",
        "colab_type": "code",
        "colab": {
          "base_uri": "https://localhost:8080/",
          "height": 122
        },
        "outputId": "0c32a39c-0f6b-4b0b-df6a-af11354cbd43"
      },
      "source": [
        "c=np.matmul(a,b)\n",
        "d=np.transpose(c)\n",
        "e=np.linalg.inv(d)\n",
        "print(c)\n",
        "print(d)\n",
        "print(e)\n"
      ],
      "execution_count": 3,
      "outputs": [
        {
          "output_type": "stream",
          "text": [
            "[[8 2]\n",
            " [4 4]]\n",
            "[[8 4]\n",
            " [2 4]]\n",
            "[[ 0.16666667 -0.16666667]\n",
            " [-0.08333333  0.33333333]]\n"
          ],
          "name": "stdout"
        }
      ]
    },
    {
      "cell_type": "code",
      "metadata": {
        "id": "LOObdDVtwk5e",
        "colab_type": "code",
        "colab": {
          "base_uri": "https://localhost:8080/",
          "height": 1000
        },
        "outputId": "ad39cab0-043b-43fa-edd8-e185c7ed58b8"
      },
      "source": [
        "import numpy as np\n",
        "import pandas as pd\n",
        "import matplotlib.pyplot as plt\n",
        "import time\n",
        "# pandas를 통해 txt 파일 읽어오기\n",
        "name_file = './data_lab1.txt'\n",
        "columns = ['x', 'y']\n",
        "\n",
        "data_in = pd.read_csv(name_file, names=columns, sep=' ')\n",
        "\n",
        "# pandas dataframe으로부터 numpy 행렬로 바꾸기\n",
        "x = np.asarray(data_in['x'])\n",
        "y = np.asarray(data_in['y'])\n",
        "\n",
        "print(\"shape of x :\", x.shape)\n",
        "print(\"shape of y :\", y.shape)\n",
        "\n",
        "plt.plot(x, y, 'ro', label='original data')\n",
        "plt.xlabel('x')\n",
        "plt.ylabel('y')\n",
        "plt.title('Plot Original Data')\n",
        "plt.legend()\n",
        "plt.show()\n",
        "\n",
        "# x에 x0=1에 해당하는 열을 추가하여 x를 reshape하기\n",
        "# 정상적으로 코딩했다면 x의 shape는 (100,)에서 (100, 2)가 되어야함\n",
        "x = np.column_stack((np.ones_like(x), x))\n",
        "print('shape of x', x.shape)\n",
        "\n",
        "# 현재 1차원 배열 y를 열벡터로 reshape하기\n",
        "# 정상적으로 코딩했다면 x의 shape는 (100,)에서 (100, 1)이 되어야함\n",
        "y = y.reshape(-1, 1)\n",
        "print('shape of y', y.shape)\n",
        "\n",
        "# x의 첫 10개의 데이터 출력해보기\n",
        "print(x[:10])\n",
        "\n",
        "# y의 첫 10개의 데이터 출력해보기\n",
        "print(y[:10])\n",
        "\n",
        "I = x.shape[0]\n",
        "N = x.shape[1] - 1\n",
        "alpha = 0.001\n",
        "max_epoch = 10000\n",
        "\n",
        "# 타이머 시작\n",
        "start = time.time()\n",
        "\n",
        "# 파라미터 랜덤 초기화\n",
        "theta_BGD = np.random.rand(N+1, 1)\n",
        "\n",
        "# 메인 루프\n",
        "for epoch in range(max_epoch):\n",
        "    # n 루프를 도는 중에 변경된 theta값을 사용하면 안되므로, 미리 값을 저장하여 사용합니다.\n",
        "    theta_BGD_tp = np.transpose(theta_BGD)\n",
        "    for n in range(0, N+1):\n",
        "        gradient = 0.\n",
        "        for i in range(0, I):\n",
        "            gradient += (np.matmul(theta_BGD_tp, x[i]) - y[i]) * x[i][n]\n",
        "        theta_BGD[n] = theta_BGD[n] - alpha * gradient\n",
        "\n",
        "# 학습에 소요된 시간 출력\n",
        "print('time :', time.time() - start)\n",
        "\n",
        "# 학습된 파라미터 출력\n",
        "print(theta_BGD)\n",
        "\n",
        "# 타이머 시작\n",
        "start = time.time()\n",
        "\n",
        "# 파라미터 랜덤 초기화\n",
        "theta_SGD = np.random.rand(N+1, 1)\n",
        "# 메인 루프\n",
        "for epoch in range(max_epoch):\n",
        "    # n 루프를 도는 중에 변경된 theta값을 사용하면 안되므로, 미리 값을 저장하여 사용합니다.\n",
        "    theta_SGD_tp = np.transpose(theta_SGD)\n",
        "    for n in range(0, N+1):\n",
        "        i = np.random.randint(0, I);\n",
        "        gradient = (np.matmul(theta_SGD_tp, x[i]) - y[i]) * x[i][n]\n",
        "        theta_SGD[n] = theta_SGD[n] - alpha * gradient\n",
        "# 학습에 소요된 시간 출력\n",
        "print('time :', time.time() - start)\n",
        "# 학습된 파라미터 출력\n",
        "print(theta_SGD)\n",
        "\n",
        "\n",
        "\n",
        "# 타이머 시작\n",
        "start = time.time()\n",
        "\n",
        "# 공식으로 파라미터 계산\n",
        "theta_OLS =np.matmul(np.linalg.inv(np.matmul(np.transpose(x),x)),np.matmul(np.transpose(x),y))\n",
        "\n",
        "# 계산에 소요된 시간 출력\n",
        "print('time :', time.time() - start)\n",
        "\n",
        "# 파라미터 출력\n",
        "print(theta_BGD3)\n",
        "\n",
        "# plt를 통해 원본 데이터와 3개의 회귀자 plot 하기\n",
        "# 그래프 상에 원본 데이터의 산점도와 직선 3개가 그려져있어야함\n",
        "\n",
        "\n",
        "y1=theta_BGD[0]+theta_BGD[1]*x[:,1]\n",
        "y2=theta_SGD[0]+theta_SGD[1]*x[:,1]\n",
        "y3=theta_OLS[0]+theta_OLS[1]*x[:,1]\n",
        "\n",
        "\n",
        "plt.plot(x[:,1], y, 'ro' ,x[:,1], y1, 'b',x[:,1], y2, 'g',x[:,1], y3, 'y')\n",
        "\n",
        "plt.xlabel('x')\n",
        "plt.ylabel('y')\n",
        "plt.show()"
      ],
      "execution_count": 17,
      "outputs": [
        {
          "output_type": "stream",
          "text": [
            "shape of x : (100,)\n",
            "shape of y : (100,)\n"
          ],
          "name": "stdout"
        },
        {
          "output_type": "display_data",
          "data": {
            "image/png": "[encoded data removed]",
            "text/plain": [
              "<Figure size 432x288 with 1 Axes>"
            ]
          },
          "metadata": {
            "tags": []
          }
        },
        {
          "output_type": "stream",
          "text": [
            "shape of x (100, 2)\n",
            "shape of y (100, 1)\n",
            "[[1.         0.        ]\n",
            " [1.         0.02020202]\n",
            " [1.         0.04040404]\n",
            " [1.         0.06060606]\n",
            " [1.         0.08080808]\n",
            " [1.         0.1010101 ]\n",
            " [1.         0.12121212]\n",
            " [1.         0.14141414]\n",
            " [1.         0.16161616]\n",
            " [1.         0.18181818]]\n",
            "[[0.68578517]\n",
            " [1.67173466]\n",
            " [2.40627588]\n",
            " [0.3751675 ]\n",
            " [4.35594913]\n",
            " [2.10969915]\n",
            " [2.79043498]\n",
            " [3.10140969]\n",
            " [2.27021292]\n",
            " [3.04895187]]\n",
            "time : 11.086292028427124\n",
            "[[-0.94710665]\n",
            " [10.23574237]]\n",
            "time : 0.29718780517578125\n",
            "[[0.11469349]\n",
            " [9.41869088]]\n",
            "time : 0.00026607513427734375\n",
            "[[-0.94710665]\n",
            " [10.23574237]]\n"
          ],
          "name": "stdout"
        },
        {
          "output_type": "display_data",
          "data": {
            "image/png": "[encoded data removed]",
            "text/plain": [
              "<Figure size 432x288 with 1 Axes>"
            ]
          },
          "metadata": {
            "tags": []
          }
        }
      ]
    },
    {
      "cell_type": "code",
      "metadata": {
        "id": "7RNG9LV6ySjq",
        "colab_type": "code",
        "colab": {}
      },
      "source": [
        "\n"
      ],
      "execution_count": 0,
      "outputs": []
    }
  ]
}