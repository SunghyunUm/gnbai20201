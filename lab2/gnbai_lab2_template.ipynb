{
  "nbformat": 4,
  "nbformat_minor": 0,
  "metadata": {
    "colab": {
      "name": "gnbai_lab2_template.ipynb",
      "provenance": [],
      "collapsed_sections": [],
      "include_colab_link": true
    },
    "kernelspec": {
      "name": "python3",
      "display_name": "Python 3"
    }
  },
  "cells": [
    {
      "cell_type": "markdown",
      "metadata": {
        "id": "view-in-github",
        "colab_type": "text"
      },
      "source": [
        "<a href=\"https://colab.research.google.com/github/yh08037/gnbai20201/blob/master/lab2/gnbai_lab2_template.ipynb\" target=\"_parent\"><img src=\"https://colab.research.google.com/assets/colab-badge.svg\" alt=\"Open In Colab\"/></a>"
      ]
    },
    {
      "cell_type": "markdown",
      "metadata": {
        "id": "lmJpYA7HZ_7t",
        "colab_type": "text"
      },
      "source": [
        "# GnB AI Project Assignment\n",
        "## Lab 2: Regularized Regression\n"
      ]
    },
    {
      "cell_type": "markdown",
      "metadata": {
        "id": "Yu4gHSym93uq",
        "colab_type": "text"
      },
      "source": [
        "### Tasks\n",
        "1. data_lab2.txt의 데이터를 읽고, train 데이터 70%, test 데이터 30%로 분할하여라.\n",
        "2. 다음의 가설 함수들에 대해 파라미터의 최적값을 구하여라.\n",
        "    \n",
        "    (비정규화 회귀는 최소 제곱법, 정규화 회귀는 closed-form solution 사용)\n",
        "    \n",
        "    * 비정규화 회귀 – 선형 모델\n",
        "    * 비정규화 회귀 – 2차 다항식 모델\n",
        "    * 비정규화 회귀 – 5차 다항식 모델\n",
        "    * 정규화 회귀 – 5차 다항식 모델 (Ridge)\n",
        "\n",
        "3. train 데이터 위에 학습된 회귀자들을 plot하고, train error를 구하여라.\n",
        "4. test 데이터 위에 학습된 회귀자들을 plot하고, test error를 구하여라"
      ]
    },
    {
      "cell_type": "markdown",
      "metadata": {
        "id": "6rg2Wpkg-Crw",
        "colab_type": "text"
      },
      "source": [
        "### Imports"
      ]
    },
    {
      "cell_type": "code",
      "metadata": {
        "id": "HXboxQ0X93Tr",
        "colab_type": "code",
        "colab": {}
      },
      "source": [
        "import numpy as np\n",
        "import pandas as pd\n",
        "import matplotlib.pyplot as plt"
      ],
      "execution_count": 0,
      "outputs": []
    },
    {
      "cell_type": "markdown",
      "metadata": {
        "id": "NdLwXc2E94RG",
        "colab_type": "text"
      },
      "source": [
        "### 1. Train-test split"
      ]
    },
    {
      "cell_type": "code",
      "metadata": {
        "id": "CjjYC13fZ_FQ",
        "colab_type": "code",
        "outputId": "975513bb-c578-432e-e25e-41ccfc3bb2d4",
        "colab": {
          "base_uri": "https://localhost:8080/",
          "height": 269
        }
      },
      "source": [
        "# pandas를 통해 txt 파일 읽어오기\n",
        "name_file = './new.txt'\n",
        "columns = ['x', 'y']\n",
        "\n",
        "data_pd = pd.read_csv(name_file, names=columns, sep='\\t')\n",
        "\n",
        "print(data_pd)"
      ],
      "execution_count": 332,
      "outputs": [
        {
          "output_type": "stream",
          "text": [
            "         x       y\n",
            "0     2.94  34.340\n",
            "1     3.06  34.520\n",
            "2     3.07  34.318\n",
            "3     3.16  34.360\n",
            "4     3.26  34.490\n",
            "..     ...     ...\n",
            "195  16.10  33.770\n",
            "196  16.14  33.808\n",
            "197  16.52  33.851\n",
            "198  16.82  33.953\n",
            "199  17.10  33.950\n",
            "\n",
            "[200 rows x 2 columns]\n"
          ],
          "name": "stdout"
        }
      ]
    },
    {
      "cell_type": "code",
      "metadata": {
        "id": "AKMnMDLL_qzu",
        "colab_type": "code",
        "outputId": "5cd955d3-8349-46a1-b5bc-4a18430dea17",
        "colab": {
          "base_uri": "https://localhost:8080/",
          "height": 215
        }
      },
      "source": [
        "# pandas dataframe을 numpy array로 변환\n",
        "data_np = data_pd.values\n",
        "\n",
        "# data_pd는 더이상 필요하지 않으므로 메모리를 비워줍니다.\n",
        "del data_pd\n",
        "\n",
        "# 데이터의 순서를 랜덤으로 섞기\n",
        "np.random.shuffle(data_np)\n",
        "\n",
        "# 처음과 끝의 5개의 데이터를 출력\n",
        "print(data_np[:5])\n",
        "print('...')\n",
        "print(data_np[-5:])"
      ],
      "execution_count": 333,
      "outputs": [
        {
          "output_type": "stream",
          "text": [
            "[[ 9.86  33.494]\n",
            " [ 6.28  34.114]\n",
            " [ 4.52  34.28 ]\n",
            " [ 5.7   34.43 ]\n",
            " [11.74  33.265]]\n",
            "...\n",
            "[[16.14  33.808]\n",
            " [ 4.12  34.268]\n",
            " [ 4.89  33.991]\n",
            " [10.01  34.23 ]\n",
            " [11.78  32.88 ]]\n"
          ],
          "name": "stdout"
        }
      ]
    },
    {
      "cell_type": "code",
      "metadata": {
        "id": "CGNn2JKZ-7A3",
        "colab_type": "code",
        "outputId": "5851dbee-3cd2-4506-fb48-05f80b7fd05a",
        "colab": {
          "base_uri": "https://localhost:8080/",
          "height": 89
        }
      },
      "source": [
        "# train set과 test set의 크기를 결정\n",
        "data_size = len(data_np)\n",
        "\n",
        "train_size = int(data_size * 0.7)\n",
        "test_size = data_size - train_size\n",
        "\n",
        "# train-test set 나누기\n",
        "x_train = data_np[:train_size, 0].reshape(-1, 1)\n",
        "y_train = data_np[:train_size, 1].reshape(-1, 1)\n",
        "\n",
        "x_test = data_np[-test_size:, 0].reshape(-1, 1)\n",
        "y_test = data_np[-test_size:, 1].reshape(-1, 1)\n",
        "\n",
        "# data_np도 더이상 필요하지 않으므로 메모리를 비워줍니다.\n",
        "del data_np\n",
        "\n",
        "print(\"shape of x_train :\", x_train.shape)\n",
        "print(\"shape of y_train :\", y_train.shape)\n",
        "print(\"shape of x_test :\", x_test.shape)\n",
        "print(\"shape of y_test :\", y_test.shape)"
      ],
      "execution_count": 334,
      "outputs": [
        {
          "output_type": "stream",
          "text": [
            "shape of x_train : (140, 1)\n",
            "shape of y_train : (140, 1)\n",
            "shape of x_test : (60, 1)\n",
            "shape of y_test : (60, 1)\n"
          ],
          "name": "stdout"
        }
      ]
    },
    {
      "cell_type": "code",
      "metadata": {
        "id": "2wowAZQcDNTr",
        "colab_type": "code",
        "outputId": "c60f172c-e61d-43eb-b347-ab81b7b40140",
        "colab": {
          "base_uri": "https://localhost:8080/",
          "height": 295
        }
      },
      "source": [
        "# data plot하기\n",
        "plt.title('Plot Original Data')\n",
        "plt.plot(x_train, y_train, 'r.', label='train data')\n",
        "plt.plot(x_test, y_test, 'b.', label='test data')\n",
        "plt.xlabel('x')\n",
        "plt.ylabel('y')\n",
        "plt.legend()\n",
        "plt.show()"
      ],
      "execution_count": 335,
      "outputs": [
        {
          "output_type": "display_data",
          "data": {
            "image/png": "[encoded data removed]",
            "text/plain": [
              "<Figure size 432x288 with 1 Axes>"
            ]
          },
          "metadata": {
            "tags": []
          }
        }
      ]
    },
    {
      "cell_type": "markdown",
      "metadata": {
        "id": "Uds8zaFHaP0d",
        "colab_type": "text"
      },
      "source": [
        "### 2. Finding optimal parameters"
      ]
    },
    {
      "cell_type": "markdown",
      "metadata": {
        "id": "zsYA_p5rHWTO",
        "colab_type": "text"
      },
      "source": [
        "#### 모델 정의\n",
        "\n",
        "1. 비정규화 회귀 – 선형 모델\n",
        "    \n",
        "    $h_\\theta^{(1)}(x)=\\theta_0+\\theta_1x_1 \\quad\\quad\\quad\\quad\\quad\\quad \\left(x_1=x\\right)$\n",
        "\n",
        "2. 비정규화 회귀 – 2차 다항식 모델\n",
        "    \n",
        "    $h_\\theta^{(2)}(x)=\\theta_0+\\theta_1x_1+\\theta_2x_2 \\quad\\quad\\quad \\left(x_2=x^2\\right)$\n",
        "\n",
        "3. 비정규화 회귀 – 5차 다항식 모델\n",
        "    \n",
        "    $h_\\theta^{(3)}(x)=\\theta_0+\\theta_1x_1+\\theta_2x_2+\\theta_3x_3+\\theta_4x_4+\\theta_5x_5$\n",
        "\n",
        "4. 정규화 회귀 – 5차 다항식 모델 (Ridge)\n",
        "    \n",
        "    $h_\\theta^{(4)}(x)=\\theta_0+\\theta_1x_1+\\theta_2x_2+\\theta_3x_3+\\theta_4x_4+\\theta_5x_5$\n",
        "\n",
        "\n",
        "##### 각 모델들의 x 행렬\n",
        "$\n",
        "X^{(h^{(1)})}=\n",
        "  \\begin{bmatrix}\n",
        "    1 & x_1^{(1)} \\\\\n",
        "    1 & x_1^{(2)} \\\\\n",
        "    \\vdots & \\vdots \\\\\n",
        "    1 & x_1^{(I)} \\\\\n",
        "  \\end{bmatrix}\n",
        "$ \n",
        "\n",
        "$\n",
        "X^{(h^{(2)})}=\n",
        "  \\begin{bmatrix}\n",
        "    1 & x_1^{(1)} & x_2^{(1)} \\\\\n",
        "    1 & x_1^{(2)}& x_2^{(2)} \\\\\n",
        "    \\vdots & \\vdots & \\vdots \\\\\n",
        "    1 & x_1^{(I)}& x_2^{(I)} \\\\\n",
        "  \\end{bmatrix}\n",
        "$ \n",
        "\n",
        "$\n",
        "X^{(h^{(3)})}=\n",
        "  \\begin{bmatrix}\n",
        "    1 & x_1^{(1)} & \\cdots & x_5^{(1)} \\\\\n",
        "    1 & x_1^{(2)}& \\cdots & x_5^{(2)} \\\\\n",
        "    \\vdots & \\vdots &  & \\vdots \\\\\n",
        "    1 & x_1^{(I)}& \\cdots & x_5^{(I)} \\\\\n",
        "  \\end{bmatrix}\n",
        "$ \n",
        "\n",
        "$\n",
        "X^{(h^{(4)})}=\n",
        "  \\begin{bmatrix}\n",
        "    1 & x_1^{(1)} & \\cdots & x_5^{(1)} \\\\\n",
        "    1 & x_1^{(2)}& \\cdots & x_5^{(2)} \\\\\n",
        "    \\vdots & \\vdots &  & \\vdots \\\\\n",
        "    1 & x_1^{(I)}& \\cdots & x_5^{(I)} \\\\\n",
        "  \\end{bmatrix}\n",
        "$\n"
      ]
    },
    {
      "cell_type": "code",
      "metadata": {
        "id": "gW2ZWgvLE_Xo",
        "colab_type": "code",
        "outputId": "b20bfa89-d89d-4090-cc17-f9c0d736074c",
        "colab": {
          "base_uri": "https://localhost:8080/",
          "height": 89
        }
      },
      "source": [
        "# 1. 비정규화 선형 회귀: x1_train\n",
        "\n",
        "# 2. 비정규화 2차 회귀: x2_train\n",
        "\n",
        "# 3. 비정규화 5차 회귀: x3_train\n",
        "\n",
        "# 4. 정규화 5차 회귀: x4_train\n",
        "\n",
        "# x1_train, x2_train, x3_train, x4_train의 shape 출력\n"
      ],
      "execution_count": 336,
      "outputs": [
        {
          "output_type": "stream",
          "text": [
            "shape of x1_train :  (140, 2)\n",
            "shape of x2_train :  (140, 3)\n",
            "shape of x3_train :  (140, 6)\n",
            "shape of x4_train :  (140, 6)\n"
          ],
          "name": "stdout"
        }
      ]
    },
    {
      "cell_type": "code",
      "metadata": {
        "id": "6UofK3G3NiTH",
        "colab_type": "code",
        "outputId": "7019868c-67ff-461b-aadb-9b0d264468d7",
        "colab": {
          "base_uri": "https://localhost:8080/",
          "height": 89
        }
      },
      "source": [
        "# 1. 비정규화 선형 회귀: x1_test\n",
        "\n",
        "# 2. 비정규화 2차 회귀: x2_test\n",
        "\n",
        "# 3. 비정규화 5차 회귀: x3_test\n",
        "\n",
        "# 4. 정규화 5차 회귀: x4_test\n",
        "\n",
        "# x1_test, x2_test, x3_test, x4_test의 shape 출력\n"
      ],
      "execution_count": 337,
      "outputs": [
        {
          "output_type": "stream",
          "text": [
            "shape of x1_test :  (60, 2)\n",
            "shape of x2_test :  (60, 3)\n",
            "shape of x3_test :  (60, 6)\n",
            "shape of x4_test :  (60, 6)\n"
          ],
          "name": "stdout"
        }
      ]
    },
    {
      "cell_type": "markdown",
      "metadata": {
        "id": "Se--zZZRHnSE",
        "colab_type": "text"
      },
      "source": [
        "#### 2) Finding parameters\n",
        "1. 비정규화 회귀 모델의 최소 제곱법에 의한 \n",
        "    \n",
        "    $\\theta^*=\\left(x^Tx\\right)^{-1}x^Ty$\n",
        "\n",
        "2. Ridge 정규화 회귀 모델의 닫힌 형태의 해\n",
        "    \n",
        "    $\\theta^*=\\left(x^Tx+\\lambda  \n",
        "        \\begin{bmatrix}\n",
        "            0 & 0 & \\cdots & 0 \\\\\n",
        "            0 & 1 & \\cdots & 0 \\\\\n",
        "            \\vdots & \\vdots & \\ddots & \\vdots \\\\\n",
        "            0 & 0 & \\cdots & 1 \\\\\n",
        "        \\end{bmatrix}\n",
        "    \\right)^{-1}x^Ty$"
      ]
    },
    {
      "cell_type": "code",
      "metadata": {
        "id": "8s6E9j14Z2UL",
        "colab_type": "code",
        "outputId": "664bc73b-c132-4a57-ddc8-7ca7f44dac9b",
        "colab": {
          "base_uri": "https://localhost:8080/",
          "height": 449
        }
      },
      "source": [
        "# 1. 비정규화 선형 회귀: theta1\n",
        "\n",
        "# 2. 비정규화 2차 회귀: theta2\n",
        "\n",
        "# 3. 비정규화 5차 회귀: theta3\n",
        "\n",
        "# 4. 정규화 5차 회귀: theta4\n",
        "Lambda = 0.2\n",
        "\n",
        "# theta값 출력\n"
      ],
      "execution_count": 338,
      "outputs": [
        {
          "output_type": "stream",
          "text": [
            "theta 1\n",
            "[[34.39505949]\n",
            " [-0.07533266]]\n",
            "\n",
            "theta 2\n",
            "[[ 3.60254438e+01]\n",
            " [-4.74934926e-01]\n",
            " [ 2.07749766e-02]]\n",
            "\n",
            "theta 3\n",
            "[[ 3.60291532e+01]\n",
            " [-1.31039105e+00]\n",
            " [ 4.09532558e-01]\n",
            " [-6.13456821e-02]\n",
            " [ 3.99206593e-03]\n",
            " [-9.20097009e-05]]\n",
            "\n",
            "theta 4\n",
            "[[ 3.42751411e+01]\n",
            " [-1.45890929e-01]\n",
            " [ 1.24736627e-01]\n",
            " [-2.89139293e-02]\n",
            " [ 2.25361137e-03]\n",
            " [-5.65873471e-05]]\n"
          ],
          "name": "stdout"
        }
      ]
    },
    {
      "cell_type": "markdown",
      "metadata": {
        "id": "An9WU4lnhPAr",
        "colab_type": "text"
      },
      "source": [
        "## 3. Plot training data with fitted curve"
      ]
    },
    {
      "cell_type": "code",
      "metadata": {
        "id": "WBIZrFy6Jx9a",
        "colab_type": "code",
        "outputId": "c58a1a70-98c6-4d47-fd11-e8d4b313c677",
        "colab": {
          "base_uri": "https://localhost:8080/",
          "height": 279
        }
      },
      "source": [
        "# 데이터의 순서를 shuffle했기 때문에 \n",
        "# 데이터의 순서대로 plot하면 정상적으로 그려지지 않으므로\n",
        "# 일정한 간격으로 오름차순의 구간을 만들어주는 np.linspace 사용\n",
        "\n",
        "# x_train의 최솟값부터 최댓값까지 128등분\n",
        "x = np.linspace(min(x_train), max(x_train), 128)\n",
        "\n",
        "# train data와 regressor 함께 plot하기\n"
      ],
      "execution_count": 340,
      "outputs": [
        {
          "output_type": "display_data",
          "data": {
            "image/png": "[encoded data removed]",
            "text/plain": [
              "<Figure size 432x288 with 1 Axes>"
            ]
          },
          "metadata": {
            "tags": []
          }
        }
      ]
    },
    {
      "cell_type": "markdown",
      "metadata": {
        "id": "Xk6hHCh8n6jM",
        "colab_type": "text"
      },
      "source": [
        "## 4. Compute traing errors"
      ]
    },
    {
      "cell_type": "code",
      "metadata": {
        "id": "VVWf83g3sR5F",
        "colab_type": "code",
        "colab": {}
      },
      "source": [
        "def MSE(y_hat, y):\n",
        "    result = 0.\n",
        "    # result 값을 완성해보세요!\n",
        "\n",
        "    return result"
      ],
      "execution_count": 0,
      "outputs": []
    },
    {
      "cell_type": "code",
      "metadata": {
        "id": "7jriAUCUOTxV",
        "colab_type": "code",
        "colab": {}
      },
      "source": [
        "def get_error(theta_n, x_n, y):\n",
        "\n",
        "    # 임의의 회귀 모델의 입력 x_n과\n",
        "    # 계산한 파라미터 theta_n으로\n",
        "    # y_hat 행렬을 구해보세요!\n",
        "\n",
        "    return MSE(y_hat, y)"
      ],
      "execution_count": 0,
      "outputs": []
    },
    {
      "cell_type": "code",
      "metadata": {
        "id": "-1m4v9xSrhVp",
        "colab_type": "code",
        "outputId": "f84e434c-3809-4fe3-ab26-c6ff7082320a",
        "colab": {
          "base_uri": "https://localhost:8080/",
          "height": 89
        }
      },
      "source": [
        "# get_error() 함수로 4개의 모델의 train error 구하기\n",
        "\n",
        "# train error 출력하기\n"
      ],
      "execution_count": 343,
      "outputs": [
        {
          "output_type": "stream",
          "text": [
            "0.16174670571731828\n",
            "0.08707737514247565\n",
            "0.06805998615813516\n",
            "0.06835061826397691\n"
          ],
          "name": "stdout"
        }
      ]
    },
    {
      "cell_type": "markdown",
      "metadata": {
        "id": "Hr3nCqlUrh1K",
        "colab_type": "text"
      },
      "source": [
        "## 5. Plot test data with fitted curve"
      ]
    },
    {
      "cell_type": "code",
      "metadata": {
        "id": "1-psvuorrhHq",
        "colab_type": "code",
        "outputId": "068b908f-ad42-4a31-a61b-73e0ae4dc2a2",
        "colab": {
          "base_uri": "https://localhost:8080/",
          "height": 279
        }
      },
      "source": [
        "# x_test의 최솟값부터 최댓값까지 128등분\n",
        "\n",
        "# test data와 regressor 함께 plot하기\n"
      ],
      "execution_count": 344,
      "outputs": [
        {
          "output_type": "display_data",
          "data": {
            "image/png": "[encoded data removed]",
            "text/plain": [
              "<Figure size 432x288 with 1 Axes>"
            ]
          },
          "metadata": {
            "tags": []
          }
        }
      ]
    },
    {
      "cell_type": "markdown",
      "metadata": {
        "id": "WFLR8e-nriUR",
        "colab_type": "text"
      },
      "source": [
        "## 6. Compute test errors"
      ]
    },
    {
      "cell_type": "code",
      "metadata": {
        "id": "_worb0enn50d",
        "colab_type": "code",
        "outputId": "f7cf00af-6418-4cd6-b4df-7fbf3d1e64d4",
        "colab": {
          "base_uri": "https://localhost:8080/",
          "height": 89
        }
      },
      "source": [
        "# get_error() 함수로 4개의 모델의 test error 구하기\n",
        "\n",
        "# test error 출력하기\n"
      ],
      "execution_count": 345,
      "outputs": [
        {
          "output_type": "stream",
          "text": [
            "0.1448367531965667\n",
            "0.07635505594328136\n",
            "0.06973295191563432\n",
            "0.06616327050722977\n"
          ],
          "name": "stdout"
        }
      ]
    }
  ]
}