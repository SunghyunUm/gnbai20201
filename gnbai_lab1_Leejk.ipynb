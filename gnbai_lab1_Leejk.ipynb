{
  "nbformat": 4,
  "nbformat_minor": 0,
  "metadata": {
    "colab": {
      "name": "gnbai_lab1_Leejk",
      "provenance": [],
      "collapsed_sections": [],
      "include_colab_link": true
    },
    "kernelspec": {
      "name": "python3",
      "display_name": "Python 3"
    },
    "accelerator": "GPU"
  },
  "cells": [
    {
      "cell_type": "markdown",
      "metadata": {
        "id": "view-in-github",
        "colab_type": "text"
      },
      "source": [
        "<a href=\"https://colab.research.google.com/github/leuoo/gnbai20201/blob/master/gnbai_lab1_Leejk.ipynb\" target=\"_parent\"><img src=\"https://colab.research.google.com/assets/colab-badge.svg\" alt=\"Open In Colab\"/></a>"
      ]
    },
    {
      "cell_type": "markdown",
      "metadata": {
        "id": "MIaZtGHv4Czd",
        "colab_type": "text"
      },
      "source": [
        "# GnB AI Project Assignment\n",
        "## Lab 1 : Linear Regression\n",
        "### Tasks\n",
        "1. data_lab1.txt의 데이터를 읽고, 출력값을 입력값에 대해 plot하여라.\n",
        "2. 배치 경사 하강법을 사용해서 선형 회귀 모델을 학습시켜라. 파라미터의 최적값은 무엇인가?\n",
        "3. 확률적 경사 하강법을 사용해서 선형 회귀 모델을 학습시켜라. 파라미터의 최적값은 무엇인가?\n",
        "4. 최소 제곱법을 사용해서 선형 회귀 모델을 학습시켜라. 파라미터의 최적값은 무엇인가?\n",
        "5. 원본 데이터 위에 2, 3, 4에서 얻은 회귀자를 plot하여라.\n",
        "6. train.txt에 대하여 같은 작업을 반복하고, test.txt로 모델을 평가하여라."
      ]
    },
    {
      "cell_type": "markdown",
      "metadata": {
        "id": "k70fut0c4swH",
        "colab_type": "text"
      },
      "source": [
        "### Imports"
      ]
    },
    {
      "cell_type": "code",
      "metadata": {
        "id": "3xw6Alc-4u6I",
        "colab_type": "code",
        "colab": {}
      },
      "source": [
        "import numpy as np\n",
        "import pandas as pd\n",
        "import matplotlib.pyplot as plt\n",
        "import time"
      ],
      "execution_count": 0,
      "outputs": []
    },
    {
      "cell_type": "markdown",
      "metadata": {
        "id": "xm2zq1Hk_Qvc",
        "colab_type": "text"
      },
      "source": [
        "### Numpy basics"
      ]
    },
    {
      "cell_type": "code",
      "metadata": {
        "id": "ANunkYne_TZ5",
        "colab_type": "code",
        "outputId": "659a3557-dc90-4710-e1ca-c7229d59c962",
        "colab": {
          "base_uri": "https://localhost:8080/",
          "height": 87
        }
      },
      "source": [
        "a = np.array([[2, 0], [0, 2]])\n",
        "b = np.array([[4, 1], [2, 2]])\n",
        "print(a)\n",
        "print(b)"
      ],
      "execution_count": 4,
      "outputs": [
        {
          "output_type": "stream",
          "text": [
            "[[2 0]\n",
            " [0 2]]\n",
            "[[4 1]\n",
            " [2 2]]\n"
          ],
          "name": "stdout"
        }
      ]
    },
    {
      "cell_type": "code",
      "metadata": {
        "id": "E8B1kR-s_pMl",
        "colab_type": "code",
        "outputId": "34e0dccc-1519-4b16-e61b-3ea893352d6b",
        "colab": {
          "base_uri": "https://localhost:8080/",
          "height": 122
        }
      },
      "source": [
        "c = np.matmul(a, b)     # 행렬곱\n",
        "d = np.transpose(c)     # 전치행렬\n",
        "e = np.linalg.inv(d)    # 역행렬\n",
        "print(c)\n",
        "print(d)\n",
        "print(e)"
      ],
      "execution_count": 5,
      "outputs": [
        {
          "output_type": "stream",
          "text": [
            "[[8 2]\n",
            " [4 4]]\n",
            "[[8 4]\n",
            " [2 4]]\n",
            "[[ 0.16666667 -0.16666667]\n",
            " [-0.08333333  0.33333333]]\n"
          ],
          "name": "stdout"
        }
      ]
    },
    {
      "cell_type": "markdown",
      "metadata": {
        "id": "CHJuoX1_4VLQ",
        "colab_type": "text"
      },
      "source": [
        "### 1. Read and plot data\n"
      ]
    },
    {
      "cell_type": "code",
      "metadata": {
        "id": "MFH1MIwy3-u5",
        "colab_type": "code",
        "outputId": "bda41540-42b7-4cfe-8eef-ae783032e142",
        "colab": {
          "base_uri": "https://localhost:8080/",
          "height": 52
        }
      },
      "source": [
        "# pandas를 통해 txt 파일 읽어오기\n",
        "name_file = './data_lab1.txt'\n",
        "columns = ['x', 'y']\n",
        "\n",
        "data_in = pd.read_csv(name_file, names=columns, sep=' ')\n",
        "\n",
        "# pandas dataframe으로부터 numpy 행렬로 바꾸기\n",
        "x = np.asarray(data_in['x'])\n",
        "y = np.asarray(data_in['y'])\n",
        "\n",
        "print(\"shape of x :\", x.shape)\n",
        "print(\"shape of y :\", y.shape)"
      ],
      "execution_count": 6,
      "outputs": [
        {
          "output_type": "stream",
          "text": [
            "shape of x : (100,)\n",
            "shape of y : (100,)\n"
          ],
          "name": "stdout"
        }
      ]
    },
    {
      "cell_type": "code",
      "metadata": {
        "id": "hfmNe7fy-UU_",
        "colab_type": "code",
        "outputId": "83d3981e-c3fc-4e23-80ef-7f402f700da9",
        "colab": {
          "base_uri": "https://localhost:8080/",
          "height": 295
        }
      },
      "source": [
        "# plt를 통해 데이터 plot 하기\n",
        "plt.plot(x, y, 'ro', label='original data')\n",
        "plt.xlabel('x')\n",
        "plt.ylabel('y')\n",
        "plt.title('Plot Original Data')\n",
        "plt.legend()\n",
        "plt.show()"
      ],
      "execution_count": 7,
      "outputs": [
        {
          "output_type": "display_data",
          "data": {
            "image/png": "[encoded data removed]",
            "text/plain": [
              "<Figure size 432x288 with 1 Axes>"
            ]
          },
          "metadata": {
            "tags": []
          }
        }
      ]
    },
    {
      "cell_type": "code",
      "metadata": {
        "id": "uV6PHqio7PsL",
        "colab_type": "code",
        "outputId": "4a0ea9ca-afcb-455b-efd3-e7e630e9806a",
        "colab": {
          "base_uri": "https://localhost:8080/",
          "height": 52
        }
      },
      "source": [
        "# x에 x0=1에 해당하는 열을 추가하여 x를 reshape하기\n",
        "# 정상적으로 코딩했다면 x의 shape는 (100,)에서 (100, 2)가 되어야함\n",
        "x = np.column_stack((np.ones_like(x), x))\n",
        "print('shape of x', x.shape)\n",
        "\n",
        "# 현재 1차원 배열 y를 열벡터로 reshape하기\n",
        "# 정상적으로 코딩했다면 x의 shape는 (100,)에서 (100, 1)이 되어야함\n",
        "y = y.reshape(-1, 1)\n",
        "print('shape of y', y.shape)"
      ],
      "execution_count": 8,
      "outputs": [
        {
          "output_type": "stream",
          "text": [
            "shape of x (100, 2)\n",
            "shape of y (100, 1)\n"
          ],
          "name": "stdout"
        }
      ]
    },
    {
      "cell_type": "code",
      "metadata": {
        "id": "VnZQN5lNLjUG",
        "colab_type": "code",
        "outputId": "5a34c65e-9868-419a-fe71-97519cab7e16",
        "colab": {
          "base_uri": "https://localhost:8080/",
          "height": 369
        }
      },
      "source": [
        "# x의 첫 10개의 데이터 출력해보기\n",
        "print(x[:10])\n",
        "\n",
        "# y의 첫 10개의 데이터 출력해보기\n",
        "print(y[:10])"
      ],
      "execution_count": 10,
      "outputs": [
        {
          "output_type": "stream",
          "text": [
            "[[1.         0.        ]\n",
            " [1.         0.02020202]\n",
            " [1.         0.04040404]\n",
            " [1.         0.06060606]\n",
            " [1.         0.08080808]\n",
            " [1.         0.1010101 ]\n",
            " [1.         0.12121212]\n",
            " [1.         0.14141414]\n",
            " [1.         0.16161616]\n",
            " [1.         0.18181818]]\n",
            "[[0.68578517]\n",
            " [1.67173466]\n",
            " [2.40627588]\n",
            " [0.3751675 ]\n",
            " [4.35594913]\n",
            " [2.10969915]\n",
            " [2.79043498]\n",
            " [3.10140969]\n",
            " [2.27021292]\n",
            " [3.04895187]]\n"
          ],
          "name": "stdout"
        }
      ]
    },
    {
      "cell_type": "markdown",
      "metadata": {
        "id": "mcTXZ6UtOd0y",
        "colab_type": "text"
      },
      "source": [
        "#### 참고 : 주요 행렬들의 shape\n",
        "\n",
        "행렬 x의 shape는 [I, N+1]입니다!\n",
        "\n",
        "행렬 y의 shape는 [I, 1]입니다!\n",
        "\n",
        "행렬 theta의 shape는 [N+1, 1]입니다!\n"
      ]
    },
    {
      "cell_type": "code",
      "metadata": {
        "id": "7MCp79G5KDty",
        "colab_type": "code",
        "colab": {}
      },
      "source": [
        "# I : 입력 데이터의 개수\n",
        "# N : 입력 데이터의 차원\n",
        "I = x.shape[0]\n",
        "N = x.shape[1] - 1"
      ],
      "execution_count": 0,
      "outputs": []
    },
    {
      "cell_type": "code",
      "metadata": {
        "id": "OqD4N_POObiN",
        "colab_type": "code",
        "colab": {}
      },
      "source": [
        "# 학습률, 에포크 수 설정 \n",
        "# 두개의 값을 바꿔보면서 아래의 결과가 어떻게 다르게 나오는지 관찰해보세요!\n",
        "alpha = 0.001\n",
        "max_epoch = 10000 "
      ],
      "execution_count": 0,
      "outputs": []
    },
    {
      "cell_type": "markdown",
      "metadata": {
        "id": "LeLBnb6q5dR2",
        "colab_type": "text"
      },
      "source": [
        "### 2. Batch Gradient Descent"
      ]
    },
    {
      "cell_type": "code",
      "metadata": {
        "id": "KirU-2ki5iVm",
        "colab_type": "code",
        "outputId": "23245353-e739-4e20-989d-bbfd3396335a",
        "colab": {
          "base_uri": "https://localhost:8080/",
          "height": 70
        }
      },
      "source": [
        "# 타이머 시작\n",
        "start = time.time()\n",
        "\n",
        "# 파라미터 랜덤 초기화\n",
        "theta_BGD = np.random.rand(N+1, 1)\n",
        "\n",
        "# 메인 루프\n",
        "for epoch in range(max_epoch):\n",
        "    # n 루프를 도는 중에 변경된 theta값을 사용하면 안되므로, 미리 값을 저장하여 사용합니다.\n",
        "    theta_BGD_tp = np.transpose(theta_BGD)\n",
        "    for n in range(0, N+1):\n",
        "        gradient = 0.\n",
        "        for i in range(0, I):\n",
        "            gradient += (np.matmul(theta_BGD_tp, x[i]) - y[i]) * x[i][n]\n",
        "        theta_BGD[n] = theta_BGD[n] - alpha * gradient\n",
        "\n",
        "# 학습에 소요된 시간 출력\n",
        "print('time :', time.time() - start)\n",
        "\n",
        "# 학습된 파라미터 출력\n",
        "print(theta_BGD)"
      ],
      "execution_count": 13,
      "outputs": [
        {
          "output_type": "stream",
          "text": [
            "time : 10.21287989616394\n",
            "[[-0.94710665]\n",
            " [10.23574237]]\n"
          ],
          "name": "stdout"
        }
      ]
    },
    {
      "cell_type": "markdown",
      "metadata": {
        "id": "CVErhCBQ5int",
        "colab_type": "text"
      },
      "source": [
        "### 3. Stochastic Gradient Descent"
      ]
    },
    {
      "cell_type": "code",
      "metadata": {
        "id": "Off1xLl15kvn",
        "colab_type": "code",
        "colab": {
          "base_uri": "https://localhost:8080/",
          "height": 70
        },
        "outputId": "b81dd9dd-faf1-4acb-d361-11cbea81027f"
      },
      "source": [
        "import random\n",
        "# 타이머 시작\n",
        "start = time.time()\n",
        "# 파라미터 랜덤 초기화\n",
        "theta_SGD = np.random.rand(N+1,1)\n",
        "# 메인 루프\n",
        "for epoch in range(max_epoch) :\n",
        "  theta_SGD_tp = np.transpose(theta_SGD)\n",
        "  for n in range(0, N+1):\n",
        "    i=np.random.randint(1,I)\n",
        "    theta_SGD[n]=theta_SGD[n] - alpha * (np.matmul(theta_SGD_tp, x[i])-y[i])*x[i][n]\n",
        "# 학습에 소요된 시간 출력\n",
        "print('time : ', time.time()-start)\n",
        "# 학습된 파라미터 출력\n",
        "print(theta_SGD)"
      ],
      "execution_count": 28,
      "outputs": [
        {
          "output_type": "stream",
          "text": [
            "time :  0.35218381881713867\n",
            "[[0.26862843]\n",
            " [9.23020235]]\n"
          ],
          "name": "stdout"
        }
      ]
    },
    {
      "cell_type": "markdown",
      "metadata": {
        "id": "AJOqPSHz5lka",
        "colab_type": "text"
      },
      "source": [
        "### 4. Ordinary Least Squares"
      ]
    },
    {
      "cell_type": "code",
      "metadata": {
        "id": "sd7MKJYe5q-T",
        "colab_type": "code",
        "colab": {
          "base_uri": "https://localhost:8080/",
          "height": 70
        },
        "outputId": "a94ae721-7b22-4751-a7b9-6eb9d3f0bb68"
      },
      "source": [
        "# 타이머 시작\n",
        "start=time.time()\n",
        "# 공식으로 파라미터 계산\n",
        "x_tp=np.transpose(x)\n",
        "theta_OLS=np.matmul(np.linalg.inv(np.matmul(x_tp,x)),np.matmul(x_tp,y))\n",
        "# 계산에 소요된 시간 출력\n",
        "print('time : ', time.time()-start)\n",
        "# 파라미터 출력\n",
        "print(theta_OLS)"
      ],
      "execution_count": 29,
      "outputs": [
        {
          "output_type": "stream",
          "text": [
            "time :  0.00043511390686035156\n",
            "[[-0.94710665]\n",
            " [10.23574237]]\n"
          ],
          "name": "stdout"
        }
      ]
    },
    {
      "cell_type": "markdown",
      "metadata": {
        "id": "p-LR77Pw5rcO",
        "colab_type": "text"
      },
      "source": [
        "### 5. Plot linear regressors over original dataset"
      ]
    },
    {
      "cell_type": "code",
      "metadata": {
        "id": "JjqmGPeK5yks",
        "colab_type": "code",
        "colab": {
          "base_uri": "https://localhost:8080/",
          "height": 295
        },
        "outputId": "c64a27c4-964a-4edf-8d3c-b173049733ba"
      },
      "source": [
        "# plt를 통해 원본 데이터와 3개의 회귀자 plot 하기\n",
        "plt.plot(x[:,1],y, 'ro', label = 'original data')\n",
        "y_BGD = theta_BGD[0]+ theta_BGD[1] * x[:,1]\n",
        "y_SGD = theta_SGD[0]+ theta_SGD[1] * x[:,1]\n",
        "y_OLS = theta_OLS[0]+ theta_OLS[1] * x[:,1]\n",
        "plt.plot(x[:,1],y_BGD,c='black', label = 'BGD')\n",
        "plt.plot(x[:,1],y_SGD,c='green', label = 'SGD')\n",
        "plt.plot(x[:,1],y_OLS,c='blue', label = 'OLS')\n",
        "plt.xlabel('x')\n",
        "plt.ylabel('y')\n",
        "plt.title('Plot linear regressors over original dataset')\n",
        "plt.legend()\n",
        "plt.show()\n",
        "# 그래프 상에 원본 데이터의 산점도와 직선 3개가 그려져있어야함\n",
        "\n"
      ],
      "execution_count": 31,
      "outputs": [
        {
          "output_type": "display_data",
          "data": {
            "image/png": "[encoded data removed]",
            "text/plain": [
              "<Figure size 432x288 with 1 Axes>"
            ]
          },
          "metadata": {
            "tags": []
          }
        }
      ]
    },
    {
      "cell_type": "markdown",
      "metadata": {
        "id": "0JXiD26q5yxk",
        "colab_type": "text"
      },
      "source": [
        "### 6. Train and evaluate with new data"
      ]
    },
    {
      "cell_type": "code",
      "metadata": {
        "id": "iwGWLEZW54-G",
        "colab_type": "code",
        "colab": {}
      },
      "source": [
        "# train.txt로 위와 같은 과정을 통해 3가지 모델을 학습하고 plot\n",
        "\n",
        "\n",
        "# test.txt의 새로운 데이터로 3가지 모델을 평가해보기\n",
        "# test.txt의 x를 입력으로 해서 나온 y_hat과, test.txt의 y로 error를 구하여 출력한다.\n",
        "\n"
      ],
      "execution_count": 0,
      "outputs": []
    }
  ]
}